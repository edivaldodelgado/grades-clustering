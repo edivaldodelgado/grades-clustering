{
 "cells": [
  {
   "attachments": {},
   "cell_type": "markdown",
   "metadata": {},
   "source": [
    "<h2>Método das Grades de Clusterização</h2>\n",
    "\n",
    "\n",
    "<h4> Objetivo: Identificar clusters usando a distância entre indivíduos em regiões estreitas (grades). Com a médias dessas distâncias, consigo definir um Threshold de separação entre clusters. </h4>\n",
    "\n",
    "<p>Calcular distâncias na Vertical;</p>\n",
    "\n",
    "\n",
    "<p>Calcular distâncias na Horizontal;</p>\n",
    "\n",
    "\n",
    "\n",
    "Se na vertical tiver apenas 1 indivíduo, definir cluster com linhas subsequentes, inferior e superior;\n",
    "    \n",
    "    Verificar se essas linhas já pertencem a um cluster;\n",
    "\n",
    "Se tiver mais de 1 indivíduo, verificar se está entre a média das distâncias verticais e entre a média das distâncias horizontais;\n",
    "\n",
    "    Caso pertença ser englobado pelo cluster;\n",
    "    \n",
    "    Caso não pertença, criar novo cluster;\n",
    "    \n",
    "    \n",
    "<h2> Definição de um Cluster </h2>\n",
    "\n",
    "<h3> <i><center> cluster = [xi,xf,yi,yf] </center></i></h3>\n"
   ]
  },
  {
   "cell_type": "code",
   "execution_count": 1,
   "metadata": {},
   "outputs": [],
   "source": [
    "import numpy as np\n",
    "import matplotlib.pyplot as plt\n",
    "import pandas as pd\n",
    "from pandas import ExcelWriter\n",
    "from pandas import ExcelFile\n",
    "import math\n",
    "from IPython.display import display, HTML\n"
   ]
  },
  {
   "cell_type": "code",
   "execution_count": 2,
   "metadata": {},
   "outputs": [],
   "source": [
    "def mean(numbers):\n",
    "    return float(sum(numbers)) / max(len(numbers), 1)\n",
    "\n",
    "def axis_mean(x,y):\n",
    "    ## algorithm\n",
    "\n",
    "    # calculate mean of vertical distance;\n",
    "    # assume a crescent sorted list;\n",
    "\n",
    "    a = x[0]\n",
    "    count = 0\n",
    "    mean_list = list()\n",
    "    intermediate_mean_list = list()\n",
    "    for i in x:\n",
    "        if i == a:\n",
    "            #print(\"X: {}, Y: {}\".format(i,y[count]))\n",
    "            intermediate_mean_list.append(y[count])\n",
    "        else:\n",
    "            mean_list.append(intermediate_mean_list)\n",
    "            intermediate_mean_list = list()\n",
    "            #print(mean_list)\n",
    "            #print(\"\\n\")\n",
    "            #print(\"X: {}, Y: {}\".format(i,y[count]))\n",
    "            intermediate_mean_list.append(y[count])\n",
    "            a = i\n",
    "        count += 1\n",
    "\n",
    "    medias = list()\n",
    "    for k in mean_list:\n",
    "        intermediate_mean_list = list()\n",
    "        #print(\"\\nIntermediate List: {}\".format(k))\n",
    "        for u in range(len(k)-1):\n",
    "            a = k[u+1] - k[u]\n",
    "            intermediate_mean_list.append(a)\n",
    "            #print(a)\n",
    "\n",
    "        if mean(intermediate_mean_list) != 0:\n",
    "            medias.append(mean(intermediate_mean_list))\n",
    "\n",
    "    axis_mean = mean(medias)\n",
    "    return axis_mean\n",
    "\n",
    "def distances(x,y):\n",
    "    a = x[0]\n",
    "    count = 0\n",
    "    mean_list = list()\n",
    "    intermediate_mean_list = list()\n",
    "    for i in x:\n",
    "        if i == a:\n",
    "            #print(\"X: {}, Y: {}\".format(i,y[count]))\n",
    "            intermediate_mean_list.append(y[count])\n",
    "        else:\n",
    "            mean_list.append(intermediate_mean_list)\n",
    "            intermediate_mean_list = list()\n",
    "            #print(mean_list)\n",
    "            #print(\"\\n\")\n",
    "            #print(\"X: {}, Y: {}\".format(i,y[count]))\n",
    "            intermediate_mean_list.append(y[count])\n",
    "            a = i\n",
    "        count += 1\n",
    "\n",
    "    ##############\n",
    "        \n",
    "    axis_list = list()\n",
    "    for i in x:\n",
    "        if not i in axis_list:\n",
    "            axis_list.append(i)\n",
    "            \n",
    "        \n",
    "    print(len(mean_list))\n",
    "    print(len(axis_list))\n",
    "\n",
    "    ####################################\n",
    "    return mean_list,axis_list"
   ]
  },
  {
   "cell_type": "code",
   "execution_count": 3,
   "metadata": {},
   "outputs": [
    {
     "name": "stdout",
     "output_type": "stream",
     "text": [
      "\n",
      " Média Horizontal: 2.96875\n"
     ]
    }
   ],
   "source": [
    "## Calculando a Média das Distâncias Horizontais\n",
    "df = pd.read_excel('data.xlsx', sheet_name='data')\n",
    "\n",
    "df.sort_values('y', ascending=True, inplace=True, kind='quicksort', na_position='last')\n",
    "\n",
    "#display(df)\n",
    "\n",
    "x = df['x']\n",
    "y = df['y']\n",
    "\n",
    "x = x.values\n",
    "y = y.values\n",
    "\n",
    "horizontal_mean = axis_mean(y,x)\n",
    "print(\"\\n Média Horizontal: {}\".format(horizontal_mean))"
   ]
  },
  {
   "cell_type": "code",
   "execution_count": 4,
   "metadata": {},
   "outputs": [
    {
     "name": "stdout",
     "output_type": "stream",
     "text": [
      "\n",
      " Média Vertical: 3.716666666666667\n"
     ]
    }
   ],
   "source": [
    "## Calculando a Média das Distâncias Verticais\n",
    "df = pd.read_excel('data.xlsx', sheet_name='data')\n",
    "\n",
    "df.sort_values('x', axis=0, ascending=True, inplace=False, kind='quicksort', na_position='last')\n",
    "    \n",
    "#display(df)\n",
    "  \n",
    "x = df['x']\n",
    "y = df['y']\n",
    "\n",
    "x = x.values\n",
    "y = y.values\n",
    "vertical_mean = axis_mean(x,y)\n",
    "print(\"\\n Média Vertical: {}\".format(vertical_mean))"
   ]
  },
  {
   "cell_type": "code",
   "execution_count": 5,
   "metadata": {},
   "outputs": [
    {
     "name": "stdout",
     "output_type": "stream",
     "text": [
      "16\n",
      "17\n",
      "[2, 3, 4, 5, 6, 8, 10, 13, 15, 16, 17, 18, 21, 22, 24, 25, 26]\n"
     ]
    }
   ],
   "source": [
    "medias,axis_list = distances(x,y)\n",
    "print(axis_list)"
   ]
  },
  {
   "cell_type": "code",
   "execution_count": 12,
   "metadata": {},
   "outputs": [],
   "source": [
    "def verify_cluster(cluster,clusters):\n",
    "    if len(clusters) == 0:\n",
    "        clusters.append(cluster)\n",
    "    else:\n",
    "        for i in clusters:\n",
    "            if cluster[0] >= i[0] and cluster[1] <= i[1] and cluster[2] >= i[2] and cluster[3] <= i[3]:\n",
    "                #print(\"Pertence a esse cluster\")\n",
    "                pass\n",
    "            elif cluster not in clusters:\n",
    "                clusters.append(cluster)\n",
    "            \n",
    "clusters = list()\n",
    "\n",
    "for i in range(len(medias)-1):\n",
    "\n",
    "    cluster2 = list()\n",
    "    if len(medias[i]) == 1:\n",
    "        me = medias[i]        \n",
    "        xi = axis_list[i]-1\n",
    "        xf = axis_list[i]+1\n",
    "        yi = me[0]-1\n",
    "        yf = me[0]+1\n",
    "        \n",
    "        cluster2.append(xi)\n",
    "        cluster2.append(xf)\n",
    "        cluster2.append(yi)\n",
    "        cluster2.append(yf)\n",
    "        \n",
    "        verify_cluster(cluster2,clusters)\n",
    "        \n",
    "    else:\n",
    "        for j in range(len(medias[i])-1):\n",
    "            me = medias[i]        \n",
    "            if me[j+1] - me[j] < vertical_mean and axis_list[j+1] - axis_list[i+1] < horizontal_mean:\n",
    "                cluster2 = list()\n",
    "                #print(\"Agrupar Cluster\")\n",
    "                xi = axis_list[j]\n",
    "                xf = axis_list[j+1]\n",
    "                yi = me[j+1]\n",
    "                yf = me[j]\n",
    "\n",
    "                cluster2.append(xi)\n",
    "                cluster2.append(xf)\n",
    "                cluster2.append(yi)\n",
    "                cluster2.append(yf)\n",
    "\n",
    "                verify_cluster(cluster2,clusters)\n",
    "            else:\n",
    "                cluster2 = list()\n",
    "                #print(\"Outro Cluster\")\n",
    "                xi = axis_list[i]-1\n",
    "                xf = axis_list[i]+1\n",
    "                yi = me[0]-1\n",
    "                yf = me[0]+1\n",
    "\n",
    "                cluster2.append(xi)\n",
    "                cluster2.append(xf)\n",
    "                cluster2.append(yi)\n",
    "                cluster2.append(yf)\n",
    "\n",
    "                verify_cluster(cluster2,clusters)\n",
    "    "
   ]
  },
  {
   "cell_type": "code",
   "execution_count": 13,
   "metadata": {},
   "outputs": [
    {
     "data": {
      "image/png": "[encoded data removed]",
      "text/plain": [
       "<matplotlib.figure.Figure at 0x7f76007ac908>"
      ]
     },
     "metadata": {},
     "output_type": "display_data"
    }
   ],
   "source": [
    "list_plots = list()\n",
    "\n",
    "for i in clusters:\n",
    "    plot_x = list()\n",
    "    plot_y = list()\n",
    "\n",
    "    plot_x.append(i[1])\n",
    "    plot_x.append(i[0])\n",
    "    plot_x.append(i[0])\n",
    "    plot_x.append(i[1])\n",
    "\n",
    "    plot_y.append(i[3])\n",
    "    plot_y.append(i[3])\n",
    "    plot_y.append(i[2])\n",
    "    plot_y.append(i[2])\n",
    "    \n",
    "    list_plots.append([plot_x,plot_y])\n",
    "\n",
    "    \n",
    "fig, ax = plt.subplots()\n",
    "\n",
    "for i in list_plots:\n",
    "    ax.fill(i[0], i[1])\n",
    "\n",
    "plt.show()"
   ]
  },
  {
   "cell_type": "markdown",
   "metadata": {},
   "source": [
    "<h2> Conclusões </h2>\n",
    "\n",
    "<p> </p>\n",
    "\n"
   ]
  },
  {
   "cell_type": "code",
   "execution_count": null,
   "metadata": {},
   "outputs": [],
   "source": []
  }
 ],
 "metadata": {
  "kernelspec": {
   "display_name": "Python 3",
   "language": "python",
   "name": "python3"
  },
  "language_info": {
   "codemirror_mode": {
    "name": "ipython",
    "version": 3
   },
   "file_extension": ".py",
   "mimetype": "text/x-python",
   "name": "python",
   "nbconvert_exporter": "python",
   "pygments_lexer": "ipython3",
   "version": "3.6.2"
  }
 },
 "nbformat": 4,
 "nbformat_minor": 2
}
