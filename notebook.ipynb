{
 "cells": [
  {
   "cell_type": "markdown",
   "metadata": {},
   "source": [
    "<h2>Método das Grades de Clusterização</h2>\n",
    "\n",
    "\n",
    "<h4> Objetivo: Identificar clusters usando a distância entre indivíduos em regiões estreitas (grades). Com a médias dessas distâncias, consigo definir um Threshold de separação entre clusters. </h4>\n",
    "\n",
    "<p>Calcular distâncias na Vertical;</p>\n",
    "\n",
    "\n",
    "<p>Calcular distâncias na Horizontal;</p>\n",
    "\n",
    "\n",
    "\n",
    "Se na vertical tiver apenas 1 indivíduo, definir cluster com linhas subsequentes, inferior, superior e laterais;\n",
    "\n",
    "    Verificar se essas linhas já pertencem a um cluster;\n",
    "\n",
    "Se tiver mais de 1 indivíduo, verificar se está entre a média das distâncias verticais e entre a média das distâncias horizontais;\n",
    "\n",
    "    Caso pertença ser englobado pelo cluster;\n",
    "    \n",
    "    Caso não pertença, criar novo cluster;\n",
    "    \n",
    "    \n",
    "<h2> Definição de um Cluster </h2>\n",
    "\n",
    "<h3> <i><center> cluster = [xi,xf,yi,yf] </center></i></h3>\n"
   ]
  },
  {
   "cell_type": "code",
   "execution_count": 34,
   "metadata": {
    "collapsed": false
   },
   "outputs": [],
   "source": [
    "import numpy as np\n",
    "import matplotlib.pyplot as plt\n",
    "import pandas as pd\n",
    "from pandas import ExcelWriter\n",
    "from pandas import ExcelFile\n",
    "import math\n",
    "from IPython.display import display, HTML\n",
    "from sklearn.datasets.samples_generator import make_blobs\n",
    "from sklearn.datasets.samples_generator import make_moons\n",
    "\n",
    "X, y = make_moons(n_samples=100, shuffle=True, noise=None, random_state=None)\n",
    "\n"
   ]
  },
  {
   "cell_type": "code",
   "execution_count": null,
   "metadata": {
    "collapsed": false
   },
   "outputs": [],
   "source": [
    "x.tolist()"
   ]
  },
  {
   "cell_type": "code",
   "execution_count": 28,
   "metadata": {
    "collapsed": true
   },
   "outputs": [],
   "source": [
    "def write_data(file,x,y):\n",
    "    df['x'] = x\n",
    "    df['y'] = y\n",
    "    df.to_excel(file)\n",
    "\n",
    "def mean(numbers):\n",
    "    return float(sum(numbers)) / max(len(numbers), 1)\n",
    "\n",
    "def axis_mean(x,y):\n",
    "    ## algorithm\n",
    "\n",
    "    # calculate mean of vertical distance;\n",
    "    # assume a crescent sorted list;\n",
    "\n",
    "    a = x[0]\n",
    "    count = 0\n",
    "    mean_list = list()\n",
    "    intermediate_mean_list = list()\n",
    "    for i in x:\n",
    "        if i == a:\n",
    "            #print(\"X: {}, Y: {}\".format(i,y[count]))\n",
    "            intermediate_mean_list.append(y[count])\n",
    "        else:\n",
    "            mean_list.append(intermediate_mean_list)\n",
    "            intermediate_mean_list = list()\n",
    "            #print(mean_list)\n",
    "            #print(\"\\n\")\n",
    "            #print(\"X: {}, Y: {}\".format(i,y[count]))\n",
    "            intermediate_mean_list.append(y[count])\n",
    "            a = i\n",
    "        count += 1\n",
    "\n",
    "    medias = list()\n",
    "    for k in mean_list:\n",
    "        intermediate_mean_list = list()\n",
    "        #print(\"\\nIntermediate List: {}\".format(k))\n",
    "        for u in range(len(k)-1):\n",
    "            a = k[u+1] - k[u]\n",
    "            intermediate_mean_list.append(a)\n",
    "            #print(a)\n",
    "\n",
    "        if mean(intermediate_mean_list) != 0:\n",
    "            medias.append(mean(intermediate_mean_list))\n",
    "\n",
    "    axis_mean = mean(medias)\n",
    "    return axis_mean\n",
    "\n",
    "def distances(x,y):\n",
    "    a = x[0]\n",
    "    count = 0\n",
    "    mean_list = list()\n",
    "    intermediate_mean_list = list()\n",
    "    for i in x:\n",
    "        if i == a:\n",
    "            #print(\"X: {}, Y: {}\".format(i,y[count]))\n",
    "            intermediate_mean_list.append(y[count])\n",
    "        else:\n",
    "            mean_list.append(intermediate_mean_list)\n",
    "            intermediate_mean_list = list()\n",
    "            #print(mean_list)\n",
    "            #print(\"\\n\")\n",
    "            #print(\"X: {}, Y: {}\".format(i,y[count]))\n",
    "            intermediate_mean_list.append(y[count])\n",
    "            a = i\n",
    "        count += 1\n",
    "\n",
    "    ##############\n",
    "        \n",
    "    axis_list = list()\n",
    "    for i in x:\n",
    "        if not i in axis_list:\n",
    "            axis_list.append(i)\n",
    "            \n",
    "        \n",
    "    #print(len(mean_list))\n",
    "    #print(len(axis_list))\n",
    "\n",
    "    ####################################\n",
    "    return mean_list,axis_list\n",
    "\n",
    "def plotaa(clusters):\n",
    "    list_plots = list()\n",
    "\n",
    "    for i in clusters:\n",
    "        plot_x = list()\n",
    "        plot_y = list()\n",
    "\n",
    "        plot_x.append(i[1])\n",
    "        plot_x.append(i[0])\n",
    "        plot_x.append(i[0])\n",
    "        plot_x.append(i[1])\n",
    "\n",
    "        plot_y.append(i[3])\n",
    "        plot_y.append(i[3])\n",
    "        plot_y.append(i[2])\n",
    "        plot_y.append(i[2])\n",
    "\n",
    "        list_plots.append([plot_x,plot_y])\n",
    "\n",
    "\n",
    "    fig, ax = plt.subplots()\n",
    "\n",
    "    for i in list_plots:\n",
    "        ax.fill(i[0], i[1])\n",
    "\n",
    "    plt.show()"
   ]
  },
  {
   "cell_type": "code",
   "execution_count": 3,
   "metadata": {
    "collapsed": false
   },
   "outputs": [
    {
     "data": {
      "text/plain": [
       "<matplotlib.axes._subplots.AxesSubplot at 0x7f9c871e85c0>"
      ]
     },
     "execution_count": 3,
     "metadata": {},
     "output_type": "execute_result"
    }
   ],
   "source": [
    "# visualizar os dados\n",
    "df = pd.read_excel('data.xlsx', sheet_name='data')\n",
    "df.plot.scatter('x','y')"
   ]
  },
  {
   "cell_type": "code",
   "execution_count": 4,
   "metadata": {
    "collapsed": false
   },
   "outputs": [
    {
     "name": "stdout",
     "output_type": "stream",
     "text": [
      "\n",
      " Média Horizontal: 2.416666666666667\n"
     ]
    }
   ],
   "source": [
    "## Calculando a Média das Distâncias Horizontais\n",
    "df = pd.read_excel('data.xlsx', sheet_name='data')\n",
    "\n",
    "df.sort_values('y', ascending=True, inplace=True, kind='quicksort', na_position='last')\n",
    "\n",
    "#display(df)\n",
    "\n",
    "x = df['x']\n",
    "y = df['y']\n",
    "\n",
    "\n",
    "x = x.values\n",
    "y = y.values\n",
    "\n",
    "horizontal_mean = abs(axis_mean(y,x))\n",
    "print(\"\\n Média Horizontal: {}\".format(horizontal_mean))"
   ]
  },
  {
   "cell_type": "code",
   "execution_count": 5,
   "metadata": {
    "collapsed": false
   },
   "outputs": [
    {
     "name": "stdout",
     "output_type": "stream",
     "text": [
      "\n",
      " Média Vertical: 3.841666666666667\n"
     ]
    }
   ],
   "source": [
    "## Calculando a Média das Distâncias Verticais\n",
    "df = pd.read_excel('data.xlsx', sheet_name='data')\n",
    "\n",
    "df.sort_values('x', axis=0, ascending=True, inplace=False, kind='quicksort', na_position='last')\n",
    "    \n",
    "#display(df)\n",
    "  \n",
    "x = df['x']\n",
    "y = df['y']\n",
    "\n",
    "x = x.values\n",
    "y = y.values\n",
    "vertical_mean = axis_mean(x,y)\n",
    "print(\"\\n Média Vertical: {}\".format(vertical_mean))"
   ]
  },
  {
   "cell_type": "code",
   "execution_count": 6,
   "metadata": {
    "collapsed": true
   },
   "outputs": [],
   "source": [
    "medias,axis_list = distances(x,y)"
   ]
  },
  {
   "cell_type": "code",
   "execution_count": 19,
   "metadata": {
    "collapsed": false
   },
   "outputs": [
    {
     "data": {
      "image/png": "[encoded data removed]",
      "text/plain": [
       "<matplotlib.figure.Figure at 0x7f9c832c7588>"
      ]
     },
     "metadata": {},
     "output_type": "display_data"
    },
    {
     "name": "stdout",
     "output_type": "stream",
     "text": [
      "Conjunto maior que 1: [3, 4, 5, 6, 13, 15]\n"
     ]
    },
    {
     "data": {
      "image/png": "[encoded data removed]",
      "text/plain": [
       "<matplotlib.figure.Figure at 0x7f9c838a4518>"
      ]
     },
     "metadata": {},
     "output_type": "display_data"
    },
    {
     "name": "stdout",
     "output_type": "stream",
     "text": [
      "Novo Cluster\n",
      "[2, 3, 4, 5, 6, 8, 10, 13, 15, 16, 17, 18, 21, 22, 24, 25, 26]\n"
     ]
    },
    {
     "data": {
      "image/png": "[encoded data removed]",
      "text/plain": [
       "<matplotlib.figure.Figure at 0x7f9c83c653c8>"
      ]
     },
     "metadata": {},
     "output_type": "display_data"
    },
    {
     "name": "stdout",
     "output_type": "stream",
     "text": [
      "Novo Cluster\n",
      "[2, 3, 4, 5, 6, 8, 10, 13, 15, 16, 17, 18, 21, 22, 24, 25, 26]\n"
     ]
    },
    {
     "data": {
      "image/png": "[encoded data removed]",
      "text/plain": [
       "<matplotlib.figure.Figure at 0x7f9c83b8cd30>"
      ]
     },
     "metadata": {},
     "output_type": "display_data"
    },
    {
     "name": "stdout",
     "output_type": "stream",
     "text": [
      "Novo Cluster\n",
      "[2, 3, 4, 5, 6, 8, 10, 13, 15, 16, 17, 18, 21, 22, 24, 25, 26]\n",
      "Outro Cluster\n"
     ]
    },
    {
     "data": {
      "image/png": "[encoded data removed]",
      "text/plain": [
       "<matplotlib.figure.Figure at 0x7f9c871e8630>"
      ]
     },
     "metadata": {},
     "output_type": "display_data"
    },
    {
     "name": "stdout",
     "output_type": "stream",
     "text": [
      "Novo Cluster\n",
      "[2, 3, 4, 5, 6, 8, 10, 13, 15, 16, 17, 18, 21, 22, 24, 25, 26]\n",
      "Conjunto maior que 1: [3, 4, 14, 16]\n"
     ]
    },
    {
     "data": {
      "image/png": "[encoded data removed]",
      "text/plain": [
       "<matplotlib.figure.Figure at 0x7f9c834d4550>"
      ]
     },
     "metadata": {},
     "output_type": "display_data"
    },
    {
     "name": "stdout",
     "output_type": "stream",
     "text": [
      "Novo Cluster\n",
      "[2, 3, 4, 5, 6, 8, 10, 13, 15, 16, 17, 18, 21, 22, 24, 25, 26]\n",
      "Outro Cluster\n"
     ]
    },
    {
     "data": {
      "image/png": "[encoded data removed]",
      "text/plain": [
       "<matplotlib.figure.Figure at 0x7f9c83ac3518>"
      ]
     },
     "metadata": {},
     "output_type": "display_data"
    },
    {
     "name": "stdout",
     "output_type": "stream",
     "text": [
      "Novo Cluster\n",
      "[2, 3, 4, 5, 6, 8, 10, 13, 15, 16, 17, 18, 21, 22, 24, 25, 26]\n",
      "Conjunto maior que 1: [7, 12]\n",
      "Outro Cluster\n",
      "Conjunto maior que 1: [3, 4, 14, 18]\n"
     ]
    },
    {
     "data": {
      "image/png": "[encoded data removed]",
      "text/plain": [
       "<matplotlib.figure.Figure at 0x7f9c834610b8>"
      ]
     },
     "metadata": {},
     "output_type": "display_data"
    },
    {
     "name": "stdout",
     "output_type": "stream",
     "text": [
      "Novo Cluster\n",
      "[2, 3, 4, 5, 6, 8, 10, 13, 15, 16, 17, 18, 21, 22, 24, 25, 26]\n",
      "Outro Cluster\n",
      "Outro Cluster\n",
      "Conjunto maior que 1: [6, 14]\n",
      "Outro Cluster\n",
      "Conjunto maior que 1: [3, 4]\n"
     ]
    },
    {
     "data": {
      "image/png": "[encoded data removed]",
      "text/plain": [
       "<matplotlib.figure.Figure at 0x7f9c837172e8>"
      ]
     },
     "metadata": {},
     "output_type": "display_data"
    },
    {
     "name": "stdout",
     "output_type": "stream",
     "text": [
      "Novo Cluster\n",
      "[2, 3, 4, 5, 6, 8, 10, 13, 15, 16, 17, 18, 21, 22, 24, 25, 26]\n"
     ]
    },
    {
     "data": {
      "image/png": "[encoded data removed]",
      "text/plain": [
       "<matplotlib.figure.Figure at 0x7f9c8332f940>"
      ]
     },
     "metadata": {},
     "output_type": "display_data"
    },
    {
     "data": {
      "image/png": "[encoded data removed]",
      "text/plain": [
       "<matplotlib.figure.Figure at 0x7f9c83245048>"
      ]
     },
     "metadata": {},
     "output_type": "display_data"
    },
    {
     "name": "stdout",
     "output_type": "stream",
     "text": [
      "Conjunto maior que 1: [12, 14]\n"
     ]
    },
    {
     "data": {
      "image/png": "[encoded data removed]",
      "text/plain": [
       "<matplotlib.figure.Figure at 0x7f9c836b4240>"
      ]
     },
     "metadata": {},
     "output_type": "display_data"
    },
    {
     "name": "stdout",
     "output_type": "stream",
     "text": [
      "Novo Cluster\n",
      "[2, 3, 4, 5, 6, 8, 10, 13, 15, 16, 17, 18, 21, 22, 24, 25, 26]\n"
     ]
    },
    {
     "data": {
      "image/png": "[encoded data removed]",
      "text/plain": [
       "<matplotlib.figure.Figure at 0x7f9c871e8358>"
      ]
     },
     "metadata": {},
     "output_type": "display_data"
    },
    {
     "data": {
      "image/png": "[encoded data removed]",
      "text/plain": [
       "<matplotlib.figure.Figure at 0x7f9c83ac8eb8>"
      ]
     },
     "metadata": {},
     "output_type": "display_data"
    },
    {
     "data": {
      "image/png": "[encoded data removed]",
      "text/plain": [
       "<matplotlib.figure.Figure at 0x7f9c83844748>"
      ]
     },
     "metadata": {},
     "output_type": "display_data"
    },
    {
     "data": {
      "image/png": "[encoded data removed]",
      "text/plain": [
       "<matplotlib.figure.Figure at 0x7f9c839529e8>"
      ]
     },
     "metadata": {},
     "output_type": "display_data"
    },
    {
     "data": {
      "image/png": "[encoded data removed]",
      "text/plain": [
       "<matplotlib.figure.Figure at 0x7f9c83a6aa90>"
      ]
     },
     "metadata": {},
     "output_type": "display_data"
    },
    {
     "data": {
      "image/png": "[encoded data removed]",
      "text/plain": [
       "<matplotlib.figure.Figure at 0x7f9c834f6390>"
      ]
     },
     "metadata": {},
     "output_type": "display_data"
    }
   ],
   "source": [
    "def verify_cluster(cluster,clusters):\n",
    "    if len(clusters) == 0:\n",
    "        clusters.append(cluster)\n",
    "    else:\n",
    "        print(\"\\n\\nClusters: {}\".format(clusters))\n",
    "        for i in clusters:\n",
    "            print(\"Clusters (i): {}\".format(i))\n",
    "            print(\"Cluster teste: {}\".format(cluster))\n",
    "            if cluster[0] >= i[0] and cluster[1] <= i[1] and cluster[2] >= i[2] and cluster[3] <= i[3]:\n",
    "                print(\"---Pertence a esse cluster\")\n",
    "                pass\n",
    "            elif cluster[0] <= i[0] and cluster[1] >= i[1] and cluster[2] <= i[2] and cluster[3] >= i[3]:\n",
    "                print(\"---Clusters(i):{} está contido em cluster: {} --remover\".format(i,cluster))\n",
    "                clusters.remove(i)\n",
    "            elif cluster in clusters:\n",
    "                print(\"---Cluster existente\")\n",
    "            elif cluster not in clusters:\n",
    "                # verificar se está contido, ou se contém;\n",
    "                print(\"---Não Pertence a esse cluster (adicionar)\")\n",
    "                clusters.append(cluster)\n",
    "                \n",
    "            \n",
    "clusters = list()\n",
    "\n",
    "expansao = 1\n",
    "\n",
    "for i in range(len(medias)-1):\n",
    "    cluster2 = list()\n",
    "    if len(medias[i]) == 1:\n",
    "        plotaa(clusters)\n",
    "        me = medias[i]        \n",
    "        xi = axis_list[i]-expansao\n",
    "        xf = axis_list[i]+expansao\n",
    "        yi = me[0]-expansao\n",
    "        yf = me[0]+expansao\n",
    "        \n",
    "        cluster2.append(xi)\n",
    "        cluster2.append(xf)\n",
    "        cluster2.append(yi)\n",
    "        cluster2.append(yf)\n",
    "        \n",
    "        clusters.append(cluster2)\n",
    "        #verify_cluster(cluster2,clusters)\n",
    "        \n",
    "    else:\n",
    "        me = medias[i]\n",
    "        print(\"Conjunto maior que 1: {}\".format(me))\n",
    "        for j in range(len(me)-1):\n",
    "            cluster_inter = []\n",
    "            ## comparação par a par\n",
    "            if me[j+1] - me[j] < vertical_mean:\n",
    "                plotaa(clusters)\n",
    "                cluster2 = list()\n",
    "                if cluster_inter == []:\n",
    "                    print(\"Novo Cluster\")\n",
    "                    print(axis_list)\n",
    "                    xi = axis_list[j]-expansao\n",
    "                    xf = axis_list[j]+expansao\n",
    "                    yi = me[j]\n",
    "                    yf = me[j+1]\n",
    "\n",
    "                    cluster2.append(xi)\n",
    "                    cluster2.append(xf)\n",
    "                    cluster2.append(yi)\n",
    "                    cluster2.append(yf)\n",
    "                    clusters.append(cluster2)\n",
    "\n",
    "                    cluster_inter = cluster2\n",
    "                else:\n",
    "                    print(\"Agrupar Cluster\")\n",
    "                    #yi = me[j]\n",
    "                    yf = me[j+1]\n",
    "\n",
    "                    clusters.remove(cluster_inter)\n",
    "                    cluster2\n",
    "                    \n",
    "                    cluster2.append(cluster_inter[0])\n",
    "                    cluster2.append(cluster_inter[1])\n",
    "                    cluster2.append(cluster_inter[2])\n",
    "                    cluster2.append(yf)\n",
    "                    clusters.append(cluster2)\n",
    "\n",
    "                    cluster_inter = cluster2\n",
    "                    \n",
    "\n",
    "                #verify_cluster(cluster2,clusters)\n",
    "            else:\n",
    "                #cluster_inter = cluster2\n",
    "                cluster2 = list()\n",
    "                print(\"Outro Cluster\")\n",
    "                xi = axis_list[i]-expansao\n",
    "                xf = axis_list[i]+expansao\n",
    "                yi = me[j]-expansao\n",
    "                yf = me[j]+expansao\n",
    "\n",
    "                cluster2.append(xi)\n",
    "                cluster2.append(xf)\n",
    "                cluster2.append(yi)\n",
    "                cluster2.append(yf)\n",
    "                clusters.append(cluster2)\n",
    "                \n",
    "                cluster_inter = cluster2\n",
    "                #verify_cluster(cluster2,clusters)\n",
    "    \n",
    "plotaa(clusters)\n",
    "\n",
    "#for i in clusters:\n",
    "#    verify_cluster(i,clusters)\n",
    "    \n",
    "#plotaa(clusters)\n",
    "\n",
    "\n",
    "    \n"
   ]
  },
  {
   "cell_type": "code",
   "execution_count": 40,
   "metadata": {
    "collapsed": false
   },
   "outputs": [
    {
     "data": {
      "image/png": "[encoded data removed]",
      "text/plain": [
       "<matplotlib.figure.Figure at 0x7f9c83ac10f0>"
      ]
     },
     "metadata": {},
     "output_type": "display_data"
    },
    {
     "data": {
      "image/png": "[encoded data removed]",
      "text/plain": [
       "<matplotlib.figure.Figure at 0x7f9c7ca35940>"
      ]
     },
     "metadata": {},
     "output_type": "display_data"
    },
    {
     "data": {
      "text/plain": [
       "<matplotlib.axes._subplots.AxesSubplot at 0x7f9c874d6080>"
      ]
     },
     "execution_count": 40,
     "metadata": {},
     "output_type": "execute_result"
    }
   ],
   "source": [
    "plotaa(clusters)\n",
    "#print(clusters)\n",
    "df.plot.scatter('x','y')"
   ]
  },
  {
   "cell_type": "markdown",
   "metadata": {},
   "source": [
    "<h2> Conclusões </h2>\n",
    "\n",
    "<p> </p>\n",
    "\n"
   ]
  },
  {
   "cell_type": "code",
   "execution_count": null,
   "metadata": {
    "collapsed": true
   },
   "outputs": [],
   "source": []
  },
  {
   "cell_type": "code",
   "execution_count": null,
   "metadata": {
    "collapsed": true
   },
   "outputs": [],
   "source": []
  }
 ],
 "metadata": {
  "kernelspec": {
   "display_name": "Python 3",
   "language": "python",
   "name": "python3"
  },
  "language_info": {
   "codemirror_mode": {
    "name": "ipython",
    "version": 3
   },
   "file_extension": ".py",
   "mimetype": "text/x-python",
   "name": "python",
   "nbconvert_exporter": "python",
   "pygments_lexer": "ipython3",
   "version": "3.6.0"
  }
 },
 "nbformat": 4,
 "nbformat_minor": 2
}
